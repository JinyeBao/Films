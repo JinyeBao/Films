{
 "cells": [
  {
   "cell_type": "code",
   "execution_count": 91,
   "id": "cd25455d",
   "metadata": {},
   "outputs": [
    {
     "data": {
      "text/html": [
       "<div>\n",
       "<style scoped>\n",
       "    .dataframe tbody tr th:only-of-type {\n",
       "        vertical-align: middle;\n",
       "    }\n",
       "\n",
       "    .dataframe tbody tr th {\n",
       "        vertical-align: top;\n",
       "    }\n",
       "\n",
       "    .dataframe thead th {\n",
       "        text-align: right;\n",
       "    }\n",
       "</style>\n",
       "<table border=\"1\" class=\"dataframe\">\n",
       "  <thead>\n",
       "    <tr style=\"text-align: right;\">\n",
       "      <th></th>\n",
       "      <th>Released</th>\n",
       "      <th>Title</th>\n",
       "      <th>Genre</th>\n",
       "      <th>Source</th>\n",
       "      <th>Domestic</th>\n",
       "      <th>International</th>\n",
       "      <th>Worldwide</th>\n",
       "    </tr>\n",
       "  </thead>\n",
       "  <tbody>\n",
       "    <tr>\n",
       "      <th>0</th>\n",
       "      <td>2011-07-15</td>\n",
       "      <td>Harry Potter and the Deathly Hallows:</td>\n",
       "      <td>Adventure</td>\n",
       "      <td>Based on Fiction Book/Short Story</td>\n",
       "      <td>381193157</td>\n",
       "      <td>935085104</td>\n",
       "      <td>1316278261</td>\n",
       "    </tr>\n",
       "    <tr>\n",
       "      <th>1</th>\n",
       "      <td>2001-11-16</td>\n",
       "      <td>Harry Potter and the Sorcerer’s Stone</td>\n",
       "      <td>Adventure</td>\n",
       "      <td>Based on Fiction Book/Short Story</td>\n",
       "      <td>317871467</td>\n",
       "      <td>647172027</td>\n",
       "      <td>965043494</td>\n",
       "    </tr>\n",
       "    <tr>\n",
       "      <th>2</th>\n",
       "      <td>1964-12-22</td>\n",
       "      <td>Goldfinger</td>\n",
       "      <td>Action</td>\n",
       "      <td>Based on Fiction Book/Short Story</td>\n",
       "      <td>51100000</td>\n",
       "      <td>73800000</td>\n",
       "      <td>124900000</td>\n",
       "    </tr>\n",
       "    <tr>\n",
       "      <th>3</th>\n",
       "      <td>2009-07-15</td>\n",
       "      <td>Harry Potter and the Half-Blood Prince</td>\n",
       "      <td>Adventure</td>\n",
       "      <td>Based on Fiction Book/Short Story</td>\n",
       "      <td>302089278</td>\n",
       "      <td>627321791</td>\n",
       "      <td>929411069</td>\n",
       "    </tr>\n",
       "    <tr>\n",
       "      <th>4</th>\n",
       "      <td>2010-11-19</td>\n",
       "      <td>Harry Potter and the Deathly Hallows:</td>\n",
       "      <td>Adventure</td>\n",
       "      <td>Based on Fiction Book/Short Story</td>\n",
       "      <td>296131568</td>\n",
       "      <td>655636137</td>\n",
       "      <td>951767705</td>\n",
       "    </tr>\n",
       "  </tbody>\n",
       "</table>\n",
       "</div>"
      ],
      "text/plain": [
       "    Released                                   Title      Genre  \\\n",
       "0 2011-07-15   Harry Potter and the Deathly Hallows:  Adventure   \n",
       "1 2001-11-16   Harry Potter and the Sorcerer’s Stone  Adventure   \n",
       "2 1964-12-22                              Goldfinger     Action   \n",
       "3 2009-07-15  Harry Potter and the Half-Blood Prince  Adventure   \n",
       "4 2010-11-19   Harry Potter and the Deathly Hallows:  Adventure   \n",
       "\n",
       "                              Source   Domestic  International   Worldwide  \n",
       "0  Based on Fiction Book/Short Story  381193157      935085104  1316278261  \n",
       "1  Based on Fiction Book/Short Story  317871467      647172027   965043494  \n",
       "2  Based on Fiction Book/Short Story   51100000       73800000   124900000  \n",
       "3  Based on Fiction Book/Short Story  302089278      627321791   929411069  \n",
       "4  Based on Fiction Book/Short Story  296131568      655636137   951767705  "
      ]
     },
     "execution_count": 91,
     "metadata": {},
     "output_type": "execute_result"
    }
   ],
   "source": [
    "# Import pandas library\n",
    "import pandas as pd\n",
    "\n",
    "# Read the file into gross\n",
    "gross_uk = pd.read_csv('./dataset/uk.csv',parse_dates=['Released'])\n",
    "\n",
    "# Print out gross\n",
    "gross_uk.head()"
   ]
  },
  {
   "cell_type": "code",
   "execution_count": 92,
   "id": "7555c267",
   "metadata": {},
   "outputs": [
    {
     "data": {
      "text/html": [
       "<div>\n",
       "<style scoped>\n",
       "    .dataframe tbody tr th:only-of-type {\n",
       "        vertical-align: middle;\n",
       "    }\n",
       "\n",
       "    .dataframe tbody tr th {\n",
       "        vertical-align: top;\n",
       "    }\n",
       "\n",
       "    .dataframe thead th {\n",
       "        text-align: right;\n",
       "    }\n",
       "</style>\n",
       "<table border=\"1\" class=\"dataframe\">\n",
       "  <thead>\n",
       "    <tr style=\"text-align: right;\">\n",
       "      <th></th>\n",
       "      <th>Released</th>\n",
       "      <th>Title</th>\n",
       "      <th>Genre</th>\n",
       "      <th>Source</th>\n",
       "      <th>Domestic</th>\n",
       "      <th>International</th>\n",
       "      <th>Worldwide</th>\n",
       "    </tr>\n",
       "  </thead>\n",
       "  <tbody>\n",
       "    <tr>\n",
       "      <th>0</th>\n",
       "      <td>2015-12-18</td>\n",
       "      <td>Star Wars Ep. VII: The Force Awakens</td>\n",
       "      <td>Adventure</td>\n",
       "      <td>Original Screenplay</td>\n",
       "      <td>936662225</td>\n",
       "      <td>1127953592</td>\n",
       "      <td>2064615817</td>\n",
       "    </tr>\n",
       "    <tr>\n",
       "      <th>1</th>\n",
       "      <td>2019-04-26</td>\n",
       "      <td>Avengers: Endgame</td>\n",
       "      <td>Action</td>\n",
       "      <td>Based on Comic/Graphic Novel</td>\n",
       "      <td>858373000</td>\n",
       "      <td>1939359053</td>\n",
       "      <td>2797732053</td>\n",
       "    </tr>\n",
       "    <tr>\n",
       "      <th>2</th>\n",
       "      <td>2021-12-17</td>\n",
       "      <td>Spider-Man: No Way Home</td>\n",
       "      <td>Action</td>\n",
       "      <td>Based on Comic/Graphic Novel</td>\n",
       "      <td>814108407</td>\n",
       "      <td>1095933175</td>\n",
       "      <td>1910041582</td>\n",
       "    </tr>\n",
       "    <tr>\n",
       "      <th>3</th>\n",
       "      <td>2009-12-18</td>\n",
       "      <td>Avatar</td>\n",
       "      <td>Action</td>\n",
       "      <td>Original Screenplay</td>\n",
       "      <td>785221649</td>\n",
       "      <td>2125062453</td>\n",
       "      <td>2910284102</td>\n",
       "    </tr>\n",
       "    <tr>\n",
       "      <th>4</th>\n",
       "      <td>2022-05-27</td>\n",
       "      <td>Top Gun: Maverick</td>\n",
       "      <td>Action</td>\n",
       "      <td>Original Screenplay</td>\n",
       "      <td>716657763</td>\n",
       "      <td>770000000</td>\n",
       "      <td>1486657763</td>\n",
       "    </tr>\n",
       "  </tbody>\n",
       "</table>\n",
       "</div>"
      ],
      "text/plain": [
       "    Released                                 Title      Genre  \\\n",
       "0 2015-12-18  Star Wars Ep. VII: The Force Awakens  Adventure   \n",
       "1 2019-04-26                     Avengers: Endgame     Action   \n",
       "2 2021-12-17               Spider-Man: No Way Home     Action   \n",
       "3 2009-12-18                                Avatar     Action   \n",
       "4 2022-05-27                     Top Gun: Maverick     Action   \n",
       "\n",
       "                         Source   Domestic  International   Worldwide  \n",
       "0           Original Screenplay  936662225     1127953592  2064615817  \n",
       "1  Based on Comic/Graphic Novel  858373000     1939359053  2797732053  \n",
       "2  Based on Comic/Graphic Novel  814108407     1095933175  1910041582  \n",
       "3           Original Screenplay  785221649     2125062453  2910284102  \n",
       "4           Original Screenplay  716657763      770000000  1486657763  "
      ]
     },
     "execution_count": 92,
     "metadata": {},
     "output_type": "execute_result"
    }
   ],
   "source": [
    "gross_us = pd.read_csv('./dataset/us.csv',parse_dates=['Released'])\n",
    "gross_us.head()"
   ]
  },
  {
   "cell_type": "code",
   "execution_count": 93,
   "id": "640083b5",
   "metadata": {},
   "outputs": [
    {
     "data": {
      "text/html": [
       "<div>\n",
       "<style scoped>\n",
       "    .dataframe tbody tr th:only-of-type {\n",
       "        vertical-align: middle;\n",
       "    }\n",
       "\n",
       "    .dataframe tbody tr th {\n",
       "        vertical-align: top;\n",
       "    }\n",
       "\n",
       "    .dataframe thead th {\n",
       "        text-align: right;\n",
       "    }\n",
       "</style>\n",
       "<table border=\"1\" class=\"dataframe\">\n",
       "  <thead>\n",
       "    <tr style=\"text-align: right;\">\n",
       "      <th></th>\n",
       "      <th>Genre</th>\n",
       "      <th>release_year</th>\n",
       "      <th>Domestic</th>\n",
       "      <th>International</th>\n",
       "      <th>Worldwide</th>\n",
       "    </tr>\n",
       "  </thead>\n",
       "  <tbody>\n",
       "    <tr>\n",
       "      <th>0</th>\n",
       "      <td>Action</td>\n",
       "      <td>1964</td>\n",
       "      <td>51100000.0</td>\n",
       "      <td>73800000.0</td>\n",
       "      <td>124900000.0</td>\n",
       "    </tr>\n",
       "    <tr>\n",
       "      <th>1</th>\n",
       "      <td>Action</td>\n",
       "      <td>1965</td>\n",
       "      <td>63600000.0</td>\n",
       "      <td>77600000.0</td>\n",
       "      <td>141200000.0</td>\n",
       "    </tr>\n",
       "    <tr>\n",
       "      <th>2</th>\n",
       "      <td>Action</td>\n",
       "      <td>1977</td>\n",
       "      <td>50800000.0</td>\n",
       "      <td>0.0</td>\n",
       "      <td>50800000.0</td>\n",
       "    </tr>\n",
       "    <tr>\n",
       "      <th>3</th>\n",
       "      <td>Action</td>\n",
       "      <td>1979</td>\n",
       "      <td>70300000.0</td>\n",
       "      <td>140000000.0</td>\n",
       "      <td>210300000.0</td>\n",
       "    </tr>\n",
       "    <tr>\n",
       "      <th>4</th>\n",
       "      <td>Action</td>\n",
       "      <td>1981</td>\n",
       "      <td>54800000.0</td>\n",
       "      <td>140500000.0</td>\n",
       "      <td>195300000.0</td>\n",
       "    </tr>\n",
       "  </tbody>\n",
       "</table>\n",
       "</div>"
      ],
      "text/plain": [
       "    Genre  release_year    Domestic  International    Worldwide\n",
       "0  Action          1964  51100000.0     73800000.0  124900000.0\n",
       "1  Action          1965  63600000.0     77600000.0  141200000.0\n",
       "2  Action          1977  50800000.0            0.0   50800000.0\n",
       "3  Action          1979  70300000.0    140000000.0  210300000.0\n",
       "4  Action          1981  54800000.0    140500000.0  195300000.0"
      ]
     },
     "execution_count": 93,
     "metadata": {},
     "output_type": "execute_result"
    }
   ],
   "source": [
    " # Extract year from release_date and store it in a new column\n",
    "gross_uk['release_year'] = pd.DatetimeIndex(gross_uk['Released']).year\n",
    "\n",
    "# Compute mean of adjusted gross per genre and per year\n",
    "group_uk = gross_uk.groupby(['Genre','release_year']).mean()\n",
    "\n",
    "# Convert the GroupBy object to a DataFrame\n",
    "uk_genre_yearly = group_uk.reset_index()\n",
    "\n",
    "# Inspect genre_yearly \n",
    "uk_genre_yearly.head()"
   ]
  },
  {
   "cell_type": "code",
   "execution_count": 94,
   "id": "7eae20cd",
   "metadata": {},
   "outputs": [
    {
     "data": {
      "text/html": [
       "<div>\n",
       "<style scoped>\n",
       "    .dataframe tbody tr th:only-of-type {\n",
       "        vertical-align: middle;\n",
       "    }\n",
       "\n",
       "    .dataframe tbody tr th {\n",
       "        vertical-align: top;\n",
       "    }\n",
       "\n",
       "    .dataframe thead th {\n",
       "        text-align: right;\n",
       "    }\n",
       "</style>\n",
       "<table border=\"1\" class=\"dataframe\">\n",
       "  <thead>\n",
       "    <tr style=\"text-align: right;\">\n",
       "      <th></th>\n",
       "      <th>Genre</th>\n",
       "      <th>release_year</th>\n",
       "      <th>Domestic</th>\n",
       "      <th>International</th>\n",
       "      <th>Worldwide</th>\n",
       "    </tr>\n",
       "  </thead>\n",
       "  <tbody>\n",
       "    <tr>\n",
       "      <th>0</th>\n",
       "      <td>Action</td>\n",
       "      <td>2007</td>\n",
       "      <td>319246193.0</td>\n",
       "      <td>3.890264e+08</td>\n",
       "      <td>7.082726e+08</td>\n",
       "    </tr>\n",
       "    <tr>\n",
       "      <th>1</th>\n",
       "      <td>Action</td>\n",
       "      <td>2008</td>\n",
       "      <td>533720947.0</td>\n",
       "      <td>4.648948e+08</td>\n",
       "      <td>9.986158e+08</td>\n",
       "    </tr>\n",
       "    <tr>\n",
       "      <th>2</th>\n",
       "      <td>Action</td>\n",
       "      <td>2009</td>\n",
       "      <td>593666759.5</td>\n",
       "      <td>1.279735e+09</td>\n",
       "      <td>1.873402e+09</td>\n",
       "    </tr>\n",
       "    <tr>\n",
       "      <th>3</th>\n",
       "      <td>Action</td>\n",
       "      <td>2010</td>\n",
       "      <td>312433331.0</td>\n",
       "      <td>3.087231e+08</td>\n",
       "      <td>6.211564e+08</td>\n",
       "    </tr>\n",
       "    <tr>\n",
       "      <th>4</th>\n",
       "      <td>Action</td>\n",
       "      <td>2011</td>\n",
       "      <td>352390543.0</td>\n",
       "      <td>7.714035e+08</td>\n",
       "      <td>1.123794e+09</td>\n",
       "    </tr>\n",
       "  </tbody>\n",
       "</table>\n",
       "</div>"
      ],
      "text/plain": [
       "    Genre  release_year     Domestic  International     Worldwide\n",
       "0  Action          2007  319246193.0   3.890264e+08  7.082726e+08\n",
       "1  Action          2008  533720947.0   4.648948e+08  9.986158e+08\n",
       "2  Action          2009  593666759.5   1.279735e+09  1.873402e+09\n",
       "3  Action          2010  312433331.0   3.087231e+08  6.211564e+08\n",
       "4  Action          2011  352390543.0   7.714035e+08  1.123794e+09"
      ]
     },
     "execution_count": 94,
     "metadata": {},
     "output_type": "execute_result"
    }
   ],
   "source": [
    " # Extract year from release_date and store it in a new column\n",
    "gross_us['release_year'] = pd.DatetimeIndex(gross_us['Released']).year\n",
    "\n",
    "# Compute mean of adjusted gross per genre and per year\n",
    "group_us = gross_us.groupby(['Genre','release_year']).mean()\n",
    "\n",
    "# Convert the GroupBy object to a DataFrame\n",
    "us_genre_yearly = group_us.reset_index()\n",
    "\n",
    "# Inspect genre_yearly \n",
    "us_genre_yearly.head()"
   ]
  },
  {
   "cell_type": "code",
   "execution_count": 10,
   "id": "f1851a24",
   "metadata": {},
   "outputs": [
    {
     "data": {
      "text/plain": [
       "<AxesSubplot:xlabel='release_year', ylabel='Worldwide'>"
      ]
     },
     "execution_count": 10,
     "metadata": {},
     "output_type": "execute_result"
    },
    {
     "data": {
      "image/png": "[encoded data removed]",
      "text/plain": [
       "<Figure size 432x288 with 1 Axes>"
      ]
     },
     "metadata": {
      "needs_background": "light"
     },
     "output_type": "display_data"
    }
   ],
   "source": [
    "# Import seaborn library\n",
    "import seaborn as sns\n",
    "import matplotlib.pyplot as plt\n",
    "\n",
    "# Plot the data  \n",
    "sns.scatterplot(x='release_year', y='Worldwide', hue='Genre',data=uk_genre_yearly)"
   ]
  },
  {
   "cell_type": "code",
   "execution_count": 11,
   "id": "4db78af7",
   "metadata": {},
   "outputs": [
    {
     "data": {
      "text/plain": [
       "<AxesSubplot:xlabel='release_year', ylabel='Worldwide'>"
      ]
     },
     "execution_count": 11,
     "metadata": {},
     "output_type": "execute_result"
    },
    {
     "data": {
      "image/png": "[encoded data removed]",
      "text/plain": [
       "<Figure size 432x288 with 1 Axes>"
      ]
     },
     "metadata": {
      "needs_background": "light"
     },
     "output_type": "display_data"
    }
   ],
   "source": [
    "sns.scatterplot(x='release_year', y='Worldwide', hue='Genre',data=us_genre_yearly)"
   ]
  },
  {
   "cell_type": "code",
   "execution_count": 15,
   "id": "2bc8eba0",
   "metadata": {},
   "outputs": [
    {
     "data": {
      "image/png": "[encoded data removed]",
      "text/plain": [
       "<Figure size 432x288 with 1 Axes>"
      ]
     },
     "metadata": {
      "needs_background": "light"
     },
     "output_type": "display_data"
    }
   ],
   "source": [
    "concatenated = pd.concat([uk_genre_yearly.assign(dataset='uk_genre_yearly'), us_genre_yearly.assign(dataset='us_genre_yearly')])\n",
    "sns.scatterplot(x='release_year', y='Worldwide', data=concatenated, hue='Genre', style='dataset')\n",
    "plt.show()"
   ]
  },
  {
   "cell_type": "code",
   "execution_count": 21,
   "id": "6f420b37",
   "metadata": {},
   "outputs": [
    {
     "data": {
      "text/plain": [
       "Adventure            32\n",
       "Action               27\n",
       "Drama                19\n",
       "Thriller/Suspense     8\n",
       "Romantic Comedy       6\n",
       "Horror                4\n",
       "Comedy                2\n",
       "Musical               2\n",
       "Name: Genre, dtype: int64"
      ]
     },
     "execution_count": 21,
     "metadata": {},
     "output_type": "execute_result"
    }
   ],
   "source": [
    "gross_uk['Genre'].value_counts()"
   ]
  },
  {
   "cell_type": "code",
   "execution_count": 22,
   "id": "9e13c93d",
   "metadata": {},
   "outputs": [
    {
     "data": {
      "text/plain": [
       "Adventure            49\n",
       "Action               36\n",
       "Drama                 7\n",
       "Thriller/Suspense     4\n",
       "Musical               2\n",
       "Comedy                1\n",
       "Horror                1\n",
       "Name: Genre, dtype: int64"
      ]
     },
     "execution_count": 22,
     "metadata": {},
     "output_type": "execute_result"
    }
   ],
   "source": [
    "gross_us['Genre'].value_counts()"
   ]
  },
  {
   "cell_type": "code",
   "execution_count": 17,
   "id": "c9dc4868",
   "metadata": {},
   "outputs": [
    {
     "data": {
      "text/html": [
       "<div>\n",
       "<style scoped>\n",
       "    .dataframe tbody tr th:only-of-type {\n",
       "        vertical-align: middle;\n",
       "    }\n",
       "\n",
       "    .dataframe tbody tr th {\n",
       "        vertical-align: top;\n",
       "    }\n",
       "\n",
       "    .dataframe thead th {\n",
       "        text-align: right;\n",
       "    }\n",
       "</style>\n",
       "<table border=\"1\" class=\"dataframe\">\n",
       "  <thead>\n",
       "    <tr style=\"text-align: right;\">\n",
       "      <th></th>\n",
       "      <th>Action</th>\n",
       "      <th>Adventure</th>\n",
       "      <th>Comedy</th>\n",
       "      <th>Drama</th>\n",
       "      <th>Horror</th>\n",
       "      <th>Musical</th>\n",
       "      <th>Romantic Comedy</th>\n",
       "      <th>Thriller/Suspense</th>\n",
       "    </tr>\n",
       "  </thead>\n",
       "  <tbody>\n",
       "    <tr>\n",
       "      <th>0</th>\n",
       "      <td>0</td>\n",
       "      <td>1</td>\n",
       "      <td>0</td>\n",
       "      <td>0</td>\n",
       "      <td>0</td>\n",
       "      <td>0</td>\n",
       "      <td>0</td>\n",
       "      <td>0</td>\n",
       "    </tr>\n",
       "    <tr>\n",
       "      <th>1</th>\n",
       "      <td>0</td>\n",
       "      <td>1</td>\n",
       "      <td>0</td>\n",
       "      <td>0</td>\n",
       "      <td>0</td>\n",
       "      <td>0</td>\n",
       "      <td>0</td>\n",
       "      <td>0</td>\n",
       "    </tr>\n",
       "    <tr>\n",
       "      <th>2</th>\n",
       "      <td>1</td>\n",
       "      <td>0</td>\n",
       "      <td>0</td>\n",
       "      <td>0</td>\n",
       "      <td>0</td>\n",
       "      <td>0</td>\n",
       "      <td>0</td>\n",
       "      <td>0</td>\n",
       "    </tr>\n",
       "    <tr>\n",
       "      <th>3</th>\n",
       "      <td>0</td>\n",
       "      <td>1</td>\n",
       "      <td>0</td>\n",
       "      <td>0</td>\n",
       "      <td>0</td>\n",
       "      <td>0</td>\n",
       "      <td>0</td>\n",
       "      <td>0</td>\n",
       "    </tr>\n",
       "    <tr>\n",
       "      <th>4</th>\n",
       "      <td>0</td>\n",
       "      <td>1</td>\n",
       "      <td>0</td>\n",
       "      <td>0</td>\n",
       "      <td>0</td>\n",
       "      <td>0</td>\n",
       "      <td>0</td>\n",
       "      <td>0</td>\n",
       "    </tr>\n",
       "  </tbody>\n",
       "</table>\n",
       "</div>"
      ],
      "text/plain": [
       "   Action  Adventure  Comedy  Drama  Horror  Musical  Romantic Comedy  \\\n",
       "0       0          1       0      0       0        0                0   \n",
       "1       0          1       0      0       0        0                0   \n",
       "2       1          0       0      0       0        0                0   \n",
       "3       0          1       0      0       0        0                0   \n",
       "4       0          1       0      0       0        0                0   \n",
       "\n",
       "   Thriller/Suspense  \n",
       "0                  0  \n",
       "1                  0  \n",
       "2                  0  \n",
       "3                  0  \n",
       "4                  0  "
      ]
     },
     "execution_count": 17,
     "metadata": {},
     "output_type": "execute_result"
    }
   ],
   "source": [
    "# Convert genre variable to dummy variables \n",
    "uk_genre_dummies = pd.get_dummies(data = gross_uk['Genre'])\n",
    "\n",
    "# Inspect genre_dummies\n",
    "uk_genre_dummies.head()"
   ]
  },
  {
   "cell_type": "code",
   "execution_count": 18,
   "id": "f85b39a2",
   "metadata": {},
   "outputs": [
    {
     "data": {
      "text/html": [
       "<div>\n",
       "<style scoped>\n",
       "    .dataframe tbody tr th:only-of-type {\n",
       "        vertical-align: middle;\n",
       "    }\n",
       "\n",
       "    .dataframe tbody tr th {\n",
       "        vertical-align: top;\n",
       "    }\n",
       "\n",
       "    .dataframe thead th {\n",
       "        text-align: right;\n",
       "    }\n",
       "</style>\n",
       "<table border=\"1\" class=\"dataframe\">\n",
       "  <thead>\n",
       "    <tr style=\"text-align: right;\">\n",
       "      <th></th>\n",
       "      <th>Action</th>\n",
       "      <th>Adventure</th>\n",
       "      <th>Comedy</th>\n",
       "      <th>Drama</th>\n",
       "      <th>Horror</th>\n",
       "      <th>Musical</th>\n",
       "      <th>Thriller/Suspense</th>\n",
       "    </tr>\n",
       "  </thead>\n",
       "  <tbody>\n",
       "    <tr>\n",
       "      <th>0</th>\n",
       "      <td>0</td>\n",
       "      <td>1</td>\n",
       "      <td>0</td>\n",
       "      <td>0</td>\n",
       "      <td>0</td>\n",
       "      <td>0</td>\n",
       "      <td>0</td>\n",
       "    </tr>\n",
       "    <tr>\n",
       "      <th>1</th>\n",
       "      <td>1</td>\n",
       "      <td>0</td>\n",
       "      <td>0</td>\n",
       "      <td>0</td>\n",
       "      <td>0</td>\n",
       "      <td>0</td>\n",
       "      <td>0</td>\n",
       "    </tr>\n",
       "    <tr>\n",
       "      <th>2</th>\n",
       "      <td>1</td>\n",
       "      <td>0</td>\n",
       "      <td>0</td>\n",
       "      <td>0</td>\n",
       "      <td>0</td>\n",
       "      <td>0</td>\n",
       "      <td>0</td>\n",
       "    </tr>\n",
       "    <tr>\n",
       "      <th>3</th>\n",
       "      <td>1</td>\n",
       "      <td>0</td>\n",
       "      <td>0</td>\n",
       "      <td>0</td>\n",
       "      <td>0</td>\n",
       "      <td>0</td>\n",
       "      <td>0</td>\n",
       "    </tr>\n",
       "    <tr>\n",
       "      <th>4</th>\n",
       "      <td>1</td>\n",
       "      <td>0</td>\n",
       "      <td>0</td>\n",
       "      <td>0</td>\n",
       "      <td>0</td>\n",
       "      <td>0</td>\n",
       "      <td>0</td>\n",
       "    </tr>\n",
       "  </tbody>\n",
       "</table>\n",
       "</div>"
      ],
      "text/plain": [
       "   Action  Adventure  Comedy  Drama  Horror  Musical  Thriller/Suspense\n",
       "0       0          1       0      0       0        0                  0\n",
       "1       1          0       0      0       0        0                  0\n",
       "2       1          0       0      0       0        0                  0\n",
       "3       1          0       0      0       0        0                  0\n",
       "4       1          0       0      0       0        0                  0"
      ]
     },
     "execution_count": 18,
     "metadata": {},
     "output_type": "execute_result"
    }
   ],
   "source": [
    "# Convert genre variable to dummy variables \n",
    "us_genre_dummies = pd.get_dummies(data = gross_us['Genre'])\n",
    "\n",
    "# Inspect genre_dummies\n",
    "us_genre_dummies.head()"
   ]
  },
  {
   "cell_type": "code",
   "execution_count": 30,
   "id": "9a2f6c78",
   "metadata": {},
   "outputs": [
    {
     "name": "stdout",
     "output_type": "stream",
     "text": [
      "(276786072.6428789, 84276447.28304712)\n"
     ]
    }
   ],
   "source": [
    "# Import LinearRegression\n",
    "from sklearn.linear_model import LinearRegression\n",
    "\n",
    "# Build a linear regression model\n",
    "regr_uk = LinearRegression()\n",
    "\n",
    "# Fit regr to the dataset\n",
    "regr_uk.fit(uk_genre_dummies, gross_uk['Worldwide'])\n",
    "\n",
    "# Get estimated intercept and coefficient values \n",
    "action_uk =  regr_uk.intercept_\n",
    "adventure_uk = regr_uk.coef_[[0]][0]\n",
    "\n",
    "# Inspect the estimated intercept and coefficient values \n",
    "print((action_uk, adventure_uk))"
   ]
  },
  {
   "cell_type": "code",
   "execution_count": 32,
   "id": "2f4782b8",
   "metadata": {},
   "outputs": [
    {
     "name": "stdout",
     "output_type": "stream",
     "text": [
      "(967307985.5155492, 226724442.56778416)\n"
     ]
    }
   ],
   "source": [
    "# Build a linear regression model\n",
    "regr_us = LinearRegression()\n",
    "\n",
    "# Fit regr to the dataset\n",
    "regr_us.fit(us_genre_dummies, gross_us['Worldwide'])\n",
    "\n",
    "# Get estimated intercept and coefficient values \n",
    "action_us =  regr.intercept_\n",
    "adventure_us = regr.coef_[[0]][0]\n",
    "\n",
    "# Inspect the estimated intercept and coefficient values \n",
    "print((action_us, adventure_us))"
   ]
  },
  {
   "cell_type": "code",
   "execution_count": 42,
   "id": "0e42d4c4",
   "metadata": {},
   "outputs": [],
   "source": [
    "# Import a module\n",
    "import numpy as np\n",
    "\n",
    "# Create an array of indices to sample from \n",
    "inds = np.arange(len(gross_uk['Genre']))\n",
    "\n",
    "# Initialize 500 replicate arrays\n",
    "size = 500\n",
    "bs_action_reps_uk =  np.empty(size)\n",
    "bs_adventure_reps_uk =  np.empty(size)\n",
    "\n",
    "# Create an array of indices to sample from \n",
    "inds = np.arange(len(gross_us['Genre']))\n",
    "\n",
    "bs_action_reps_us =  np.empty(size)\n",
    "bs_adventure_reps_us =  np.empty(size)\n"
   ]
  },
  {
   "cell_type": "code",
   "execution_count": 45,
   "id": "62bedeaf",
   "metadata": {},
   "outputs": [],
   "source": [
    "for i in range(size):\n",
    "    \n",
    "    # Resample the indices \n",
    "    bs_inds = np.random.choice(inds,size=len(inds))\n",
    "    \n",
    "    # Get the sampled genre and sampled adjusted gross\n",
    "    bs_genre_uk = gross_uk['Genre'][bs_inds] \n",
    "    bs_gross_uk = gross_uk['Worldwide'][bs_inds]\n",
    "    \n",
    "    # Convert sampled genre to dummy variables\n",
    "    bs_dummies_uk = pd.get_dummies(bs_genre_uk, drop_first = True)\n",
    "   \n",
    "    # Build and fit a regression model \n",
    "    regr_uk = LinearRegression().fit(bs_dummies_uk, bs_gross_uk)\n",
    "    \n",
    "    # Compute replicates of estimated intercept and coefficient\n",
    "    bs_action_reps_uk[i] = regr_uk.intercept_\n",
    "    bs_adventure_reps_uk[i] = regr_uk.coef_[[0]][0]"
   ]
  },
  {
   "cell_type": "code",
   "execution_count": 46,
   "id": "db93b027",
   "metadata": {},
   "outputs": [
    {
     "name": "stdout",
     "output_type": "stream",
     "text": [
      "[2.56418177e+08 4.52847174e+08]\n",
      "[-1.10451852e+08  1.99891454e+08]\n"
     ]
    }
   ],
   "source": [
    "# Compute 95% confidence intervals for intercept and coefficient values\n",
    "confidence_interval_action_uk = np.percentile(bs_action_reps_uk, [2.5, 97.5])\n",
    "confidence_interval_adventure_uk = np.percentile(bs_adventure_reps_uk, [2.5, 97.5])\n",
    "\n",
    "# Inspect the confidence intervals\n",
    "print(confidence_interval_action_uk)\n",
    "print(confidence_interval_adventure_uk)"
   ]
  },
  {
   "cell_type": "code",
   "execution_count": 51,
   "id": "d5cc4cd5",
   "metadata": {},
   "outputs": [
    {
     "data": {
      "text/plain": [
       "<matplotlib.collections.PolyCollection at 0x7fe6f58193d0>"
      ]
     },
     "execution_count": 51,
     "metadata": {},
     "output_type": "execute_result"
    },
    {
     "data": {
      "image/png": "[encoded data removed]",
      "text/plain": [
       "<Figure size 432x288 with 1 Axes>"
      ]
     },
     "metadata": {
      "needs_background": "light"
     },
     "output_type": "display_data"
    }
   ],
   "source": [
    "x = bs_action_reps_uk\n",
    "y = size * x\n",
    "#some confidence interval\n",
    "ci = 1.96 * np.std(y)/np.sqrt(len(x))\n",
    "\n",
    "fig, ax = plt.subplots()\n",
    "ax.plot(x,y)\n",
    "ax.fill_between(x, (y-ci), (y+ci), color='b', alpha=.1)"
   ]
  },
  {
   "cell_type": "code",
   "execution_count": 52,
   "id": "886c51f5",
   "metadata": {},
   "outputs": [
    {
     "data": {
      "text/plain": [
       "<matplotlib.collections.PolyCollection at 0x7fe6f5868eb0>"
      ]
     },
     "execution_count": 52,
     "metadata": {},
     "output_type": "execute_result"
    },
    {
     "data": {
      "image/png": "[encoded data removed]",
      "text/plain": [
       "<Figure size 432x288 with 1 Axes>"
      ]
     },
     "metadata": {
      "needs_background": "light"
     },
     "output_type": "display_data"
    }
   ],
   "source": [
    "x = bs_adventure_reps_uk\n",
    "y = size * x\n",
    "#some confidence interval\n",
    "ci = 1.96 * np.std(y)/np.sqrt(len(x))\n",
    "\n",
    "fig, ax = plt.subplots()\n",
    "ax.plot(x,y)\n",
    "ax.fill_between(x, (y-ci), (y+ci), color='b', alpha=.1)"
   ]
  },
  {
   "cell_type": "code",
   "execution_count": 49,
   "id": "404b3e12",
   "metadata": {},
   "outputs": [],
   "source": [
    "for i in range(size):\n",
    "    \n",
    "    # Resample the indices \n",
    "    bs_inds = np.random.choice(inds,size=len(inds))\n",
    "    \n",
    "    # Get the sampled genre and sampled adjusted gross\n",
    "    bs_genre_us = gross_us['Genre'][bs_inds] \n",
    "    bs_gross_us = gross_us['Worldwide'][bs_inds]\n",
    "    \n",
    "    # Convert sampled genre to dummy variables\n",
    "    bs_dummies_us = pd.get_dummies(bs_genre_us, drop_first = True)\n",
    "   \n",
    "    # Build and fit a regression model \n",
    "    regr_us = LinearRegression().fit(bs_dummies_us, bs_gross_us)\n",
    "    \n",
    "    # Compute replicates of estimated intercept and coefficient\n",
    "    bs_action_reps_us[i] = regr_us.intercept_\n",
    "    bs_adventure_reps_us[i] = regr_us.coef_[[0]][0]"
   ]
  },
  {
   "cell_type": "code",
   "execution_count": 50,
   "id": "8bdb20d2",
   "metadata": {},
   "outputs": [
    {
     "name": "stdout",
     "output_type": "stream",
     "text": [
      "[1.03302002e+09 1.36477978e+09]\n",
      "[-3.90612258e+08 -2.47851023e+07]\n"
     ]
    }
   ],
   "source": [
    "# Compute 95% confidence intervals for intercept and coefficient values\n",
    "confidence_interval_action_us = np.percentile(bs_action_reps_us, [2.5, 97.5])\n",
    "confidence_interval_adventure_us = np.percentile(bs_adventure_reps_us, [2.5, 97.5])\n",
    "\n",
    "# Inspect the confidence intervals\n",
    "print(confidence_interval_action_us)\n",
    "print(confidence_interval_adventure_us)"
   ]
  },
  {
   "cell_type": "code",
   "execution_count": 53,
   "id": "68e9b5e7",
   "metadata": {},
   "outputs": [
    {
     "data": {
      "text/plain": [
       "<matplotlib.collections.PolyCollection at 0x7fe6f5d2cfd0>"
      ]
     },
     "execution_count": 53,
     "metadata": {},
     "output_type": "execute_result"
    },
    {
     "data": {
      "image/png": "[encoded data removed]",
      "text/plain": [
       "<Figure size 432x288 with 1 Axes>"
      ]
     },
     "metadata": {
      "needs_background": "light"
     },
     "output_type": "display_data"
    }
   ],
   "source": [
    "x = bs_action_reps_us\n",
    "y = size * x\n",
    "#some confidence interval\n",
    "ci = 1.96 * np.std(y)/np.sqrt(len(x))\n",
    "\n",
    "fig, ax = plt.subplots()\n",
    "ax.plot(x,y)\n",
    "ax.fill_between(x, (y-ci), (y+ci), color='b', alpha=.1)"
   ]
  },
  {
   "cell_type": "code",
   "execution_count": 54,
   "id": "96a14082",
   "metadata": {},
   "outputs": [
    {
     "data": {
      "text/plain": [
       "<matplotlib.collections.PolyCollection at 0x7fe6f57bd3a0>"
      ]
     },
     "execution_count": 54,
     "metadata": {},
     "output_type": "execute_result"
    },
    {
     "data": {
      "image/png": "[encoded data removed]",
      "text/plain": [
       "<Figure size 432x288 with 1 Axes>"
      ]
     },
     "metadata": {
      "needs_background": "light"
     },
     "output_type": "display_data"
    }
   ],
   "source": [
    "x = bs_adventure_reps_us\n",
    "y = size * x\n",
    "#some confidence interval\n",
    "ci = 1.96 * np.std(y)/np.sqrt(len(x))\n",
    "\n",
    "fig, ax = plt.subplots()\n",
    "ax.plot(x,y)\n",
    "ax.fill_between(x, (y-ci), (y+ci), color='b', alpha=.1)"
   ]
  },
  {
   "cell_type": "code",
   "execution_count": 55,
   "id": "713e6e8c",
   "metadata": {},
   "outputs": [
    {
     "data": {
      "text/html": [
       "<div>\n",
       "<style scoped>\n",
       "    .dataframe tbody tr th:only-of-type {\n",
       "        vertical-align: middle;\n",
       "    }\n",
       "\n",
       "    .dataframe tbody tr th {\n",
       "        vertical-align: top;\n",
       "    }\n",
       "\n",
       "    .dataframe thead th {\n",
       "        text-align: right;\n",
       "    }\n",
       "</style>\n",
       "<table border=\"1\" class=\"dataframe\">\n",
       "  <thead>\n",
       "    <tr style=\"text-align: right;\">\n",
       "      <th></th>\n",
       "      <th>Source</th>\n",
       "      <th>release_year</th>\n",
       "      <th>Domestic</th>\n",
       "      <th>International</th>\n",
       "      <th>Worldwide</th>\n",
       "    </tr>\n",
       "  </thead>\n",
       "  <tbody>\n",
       "    <tr>\n",
       "      <th>0</th>\n",
       "      <td>Based on Comic/Graphic Novel</td>\n",
       "      <td>1978</td>\n",
       "      <td>134218018.0</td>\n",
       "      <td>165981982.0</td>\n",
       "      <td>300200000.0</td>\n",
       "    </tr>\n",
       "    <tr>\n",
       "      <th>1</th>\n",
       "      <td>Based on Comic/Graphic Novel</td>\n",
       "      <td>1981</td>\n",
       "      <td>108185706.0</td>\n",
       "      <td>82214294.0</td>\n",
       "      <td>190400000.0</td>\n",
       "    </tr>\n",
       "    <tr>\n",
       "      <th>2</th>\n",
       "      <td>Based on Comic/Graphic Novel</td>\n",
       "      <td>1983</td>\n",
       "      <td>59950623.0</td>\n",
       "      <td>20249377.0</td>\n",
       "      <td>80200000.0</td>\n",
       "    </tr>\n",
       "    <tr>\n",
       "      <th>3</th>\n",
       "      <td>Based on Comic/Graphic Novel</td>\n",
       "      <td>2011</td>\n",
       "      <td>146408305.0</td>\n",
       "      <td>209000000.0</td>\n",
       "      <td>355408305.0</td>\n",
       "    </tr>\n",
       "    <tr>\n",
       "      <th>4</th>\n",
       "      <td>Based on Comic/Graphic Novel</td>\n",
       "      <td>2015</td>\n",
       "      <td>128261724.0</td>\n",
       "      <td>276300000.0</td>\n",
       "      <td>404561724.0</td>\n",
       "    </tr>\n",
       "    <tr>\n",
       "      <th>5</th>\n",
       "      <td>Based on Comic/Graphic Novel</td>\n",
       "      <td>2017</td>\n",
       "      <td>100234838.0</td>\n",
       "      <td>308568858.0</td>\n",
       "      <td>408803696.0</td>\n",
       "    </tr>\n",
       "    <tr>\n",
       "      <th>6</th>\n",
       "      <td>Based on Fiction Book/Short Story</td>\n",
       "      <td>1964</td>\n",
       "      <td>51100000.0</td>\n",
       "      <td>73800000.0</td>\n",
       "      <td>124900000.0</td>\n",
       "    </tr>\n",
       "    <tr>\n",
       "      <th>7</th>\n",
       "      <td>Based on Fiction Book/Short Story</td>\n",
       "      <td>1965</td>\n",
       "      <td>87748915.0</td>\n",
       "      <td>38871279.0</td>\n",
       "      <td>126620194.0</td>\n",
       "    </tr>\n",
       "    <tr>\n",
       "      <th>8</th>\n",
       "      <td>Based on Fiction Book/Short Story</td>\n",
       "      <td>1977</td>\n",
       "      <td>50740942.0</td>\n",
       "      <td>0.0</td>\n",
       "      <td>50740942.0</td>\n",
       "    </tr>\n",
       "    <tr>\n",
       "      <th>9</th>\n",
       "      <td>Based on Fiction Book/Short Story</td>\n",
       "      <td>1979</td>\n",
       "      <td>70300000.0</td>\n",
       "      <td>140000000.0</td>\n",
       "      <td>210300000.0</td>\n",
       "    </tr>\n",
       "  </tbody>\n",
       "</table>\n",
       "</div>"
      ],
      "text/plain": [
       "                              Source  release_year     Domestic  \\\n",
       "0       Based on Comic/Graphic Novel          1978  134218018.0   \n",
       "1       Based on Comic/Graphic Novel          1981  108185706.0   \n",
       "2       Based on Comic/Graphic Novel          1983   59950623.0   \n",
       "3       Based on Comic/Graphic Novel          2011  146408305.0   \n",
       "4       Based on Comic/Graphic Novel          2015  128261724.0   \n",
       "5       Based on Comic/Graphic Novel          2017  100234838.0   \n",
       "6  Based on Fiction Book/Short Story          1964   51100000.0   \n",
       "7  Based on Fiction Book/Short Story          1965   87748915.0   \n",
       "8  Based on Fiction Book/Short Story          1977   50740942.0   \n",
       "9  Based on Fiction Book/Short Story          1979   70300000.0   \n",
       "\n",
       "   International    Worldwide  \n",
       "0    165981982.0  300200000.0  \n",
       "1     82214294.0  190400000.0  \n",
       "2     20249377.0   80200000.0  \n",
       "3    209000000.0  355408305.0  \n",
       "4    276300000.0  404561724.0  \n",
       "5    308568858.0  408803696.0  \n",
       "6     73800000.0  124900000.0  \n",
       "7     38871279.0  126620194.0  \n",
       "8            0.0   50740942.0  \n",
       "9    140000000.0  210300000.0  "
      ]
     },
     "execution_count": 55,
     "metadata": {},
     "output_type": "execute_result"
    }
   ],
   "source": [
    "# Compute mean of adjusted gross per genre and per year\n",
    "group_uk = gross_uk.groupby(['Source','release_year']).mean()\n",
    "\n",
    "# Convert the GroupBy object to a DataFrame\n",
    "uk_source_yearly = group_uk.reset_index()\n",
    "\n",
    "# Inspect genre_yearly \n",
    "uk_source_yearly.head(10)"
   ]
  },
  {
   "cell_type": "code",
   "execution_count": 56,
   "id": "d9047773",
   "metadata": {},
   "outputs": [
    {
     "data": {
      "text/html": [
       "<div>\n",
       "<style scoped>\n",
       "    .dataframe tbody tr th:only-of-type {\n",
       "        vertical-align: middle;\n",
       "    }\n",
       "\n",
       "    .dataframe tbody tr th {\n",
       "        vertical-align: top;\n",
       "    }\n",
       "\n",
       "    .dataframe thead th {\n",
       "        text-align: right;\n",
       "    }\n",
       "</style>\n",
       "<table border=\"1\" class=\"dataframe\">\n",
       "  <thead>\n",
       "    <tr style=\"text-align: right;\">\n",
       "      <th></th>\n",
       "      <th>Source</th>\n",
       "      <th>release_year</th>\n",
       "      <th>Domestic</th>\n",
       "      <th>International</th>\n",
       "      <th>Worldwide</th>\n",
       "    </tr>\n",
       "  </thead>\n",
       "  <tbody>\n",
       "    <tr>\n",
       "      <th>0</th>\n",
       "      <td>Based on Comic/Graphic Novel</td>\n",
       "      <td>2002</td>\n",
       "      <td>403706375.0</td>\n",
       "      <td>418000000.0</td>\n",
       "      <td>8.217064e+08</td>\n",
       "    </tr>\n",
       "    <tr>\n",
       "      <th>1</th>\n",
       "      <td>Based on Comic/Graphic Novel</td>\n",
       "      <td>2004</td>\n",
       "      <td>373524485.0</td>\n",
       "      <td>421173072.0</td>\n",
       "      <td>7.946976e+08</td>\n",
       "    </tr>\n",
       "    <tr>\n",
       "      <th>2</th>\n",
       "      <td>Based on Comic/Graphic Novel</td>\n",
       "      <td>2007</td>\n",
       "      <td>336530303.0</td>\n",
       "      <td>558329927.0</td>\n",
       "      <td>8.948602e+08</td>\n",
       "    </tr>\n",
       "    <tr>\n",
       "      <th>3</th>\n",
       "      <td>Based on Comic/Graphic Novel</td>\n",
       "      <td>2008</td>\n",
       "      <td>426162536.5</td>\n",
       "      <td>365731131.5</td>\n",
       "      <td>7.918937e+08</td>\n",
       "    </tr>\n",
       "    <tr>\n",
       "      <th>4</th>\n",
       "      <td>Based on Comic/Graphic Novel</td>\n",
       "      <td>2010</td>\n",
       "      <td>312433331.0</td>\n",
       "      <td>308723058.0</td>\n",
       "      <td>6.211564e+08</td>\n",
       "    </tr>\n",
       "    <tr>\n",
       "      <th>5</th>\n",
       "      <td>Based on Comic/Graphic Novel</td>\n",
       "      <td>2012</td>\n",
       "      <td>535748504.5</td>\n",
       "      <td>762915654.5</td>\n",
       "      <td>1.298664e+09</td>\n",
       "    </tr>\n",
       "    <tr>\n",
       "      <th>6</th>\n",
       "      <td>Based on Comic/Graphic Novel</td>\n",
       "      <td>2013</td>\n",
       "      <td>408992272.0</td>\n",
       "      <td>806400000.0</td>\n",
       "      <td>1.215392e+09</td>\n",
       "    </tr>\n",
       "    <tr>\n",
       "      <th>7</th>\n",
       "      <td>Based on Comic/Graphic Novel</td>\n",
       "      <td>2014</td>\n",
       "      <td>333714112.0</td>\n",
       "      <td>437168283.0</td>\n",
       "      <td>7.708824e+08</td>\n",
       "    </tr>\n",
       "    <tr>\n",
       "      <th>8</th>\n",
       "      <td>Based on Comic/Graphic Novel</td>\n",
       "      <td>2015</td>\n",
       "      <td>459005868.0</td>\n",
       "      <td>936311111.0</td>\n",
       "      <td>1.395317e+09</td>\n",
       "    </tr>\n",
       "    <tr>\n",
       "      <th>9</th>\n",
       "      <td>Based on Comic/Graphic Novel</td>\n",
       "      <td>2016</td>\n",
       "      <td>356653826.5</td>\n",
       "      <td>531343010.5</td>\n",
       "      <td>8.879968e+08</td>\n",
       "    </tr>\n",
       "  </tbody>\n",
       "</table>\n",
       "</div>"
      ],
      "text/plain": [
       "                         Source  release_year     Domestic  International  \\\n",
       "0  Based on Comic/Graphic Novel          2002  403706375.0    418000000.0   \n",
       "1  Based on Comic/Graphic Novel          2004  373524485.0    421173072.0   \n",
       "2  Based on Comic/Graphic Novel          2007  336530303.0    558329927.0   \n",
       "3  Based on Comic/Graphic Novel          2008  426162536.5    365731131.5   \n",
       "4  Based on Comic/Graphic Novel          2010  312433331.0    308723058.0   \n",
       "5  Based on Comic/Graphic Novel          2012  535748504.5    762915654.5   \n",
       "6  Based on Comic/Graphic Novel          2013  408992272.0    806400000.0   \n",
       "7  Based on Comic/Graphic Novel          2014  333714112.0    437168283.0   \n",
       "8  Based on Comic/Graphic Novel          2015  459005868.0    936311111.0   \n",
       "9  Based on Comic/Graphic Novel          2016  356653826.5    531343010.5   \n",
       "\n",
       "      Worldwide  \n",
       "0  8.217064e+08  \n",
       "1  7.946976e+08  \n",
       "2  8.948602e+08  \n",
       "3  7.918937e+08  \n",
       "4  6.211564e+08  \n",
       "5  1.298664e+09  \n",
       "6  1.215392e+09  \n",
       "7  7.708824e+08  \n",
       "8  1.395317e+09  \n",
       "9  8.879968e+08  "
      ]
     },
     "execution_count": 56,
     "metadata": {},
     "output_type": "execute_result"
    }
   ],
   "source": [
    "# Compute mean of adjusted gross per genre and per year\n",
    "group_us = gross_us.groupby(['Source','release_year']).mean()\n",
    "\n",
    "# Convert the GroupBy object to a DataFrame\n",
    "us_source_yearly = group_us.reset_index()\n",
    "\n",
    "# Inspect genre_yearly \n",
    "us_source_yearly.head(10)"
   ]
  },
  {
   "cell_type": "code",
   "execution_count": 62,
   "id": "71553b62",
   "metadata": {},
   "outputs": [
    {
     "data": {
      "text/plain": [
       "<AxesSubplot:xlabel='release_year', ylabel='Worldwide'>"
      ]
     },
     "execution_count": 62,
     "metadata": {},
     "output_type": "execute_result"
    },
    {
     "data": {
      "image/png": "[encoded data removed]",
      "text/plain": [
       "<Figure size 432x288 with 1 Axes>"
      ]
     },
     "metadata": {
      "needs_background": "light"
     },
     "output_type": "display_data"
    }
   ],
   "source": [
    "sns.scatterplot(x='release_year', y='Worldwide', hue='Source',data=uk_source_yearly)"
   ]
  },
  {
   "cell_type": "code",
   "execution_count": 63,
   "id": "d284cddf",
   "metadata": {},
   "outputs": [
    {
     "data": {
      "text/plain": [
       "<AxesSubplot:xlabel='release_year', ylabel='Worldwide'>"
      ]
     },
     "execution_count": 63,
     "metadata": {},
     "output_type": "execute_result"
    },
    {
     "data": {
      "image/png": "[encoded data removed]",
      "text/plain": [
       "<Figure size 432x288 with 1 Axes>"
      ]
     },
     "metadata": {
      "needs_background": "light"
     },
     "output_type": "display_data"
    }
   ],
   "source": [
    "sns.scatterplot(x='release_year', y='Worldwide', hue='Source',data=us_source_yearly)"
   ]
  },
  {
   "cell_type": "code",
   "execution_count": 64,
   "id": "312d0748",
   "metadata": {},
   "outputs": [
    {
     "data": {
      "image/png": "[encoded data removed]",
      "text/plain": [
       "<Figure size 432x288 with 1 Axes>"
      ]
     },
     "metadata": {
      "needs_background": "light"
     },
     "output_type": "display_data"
    }
   ],
   "source": [
    "concatenated = pd.concat([uk_source_yearly.assign(dataset='uk_source_yearly'), us_source_yearly.assign(dataset='us_source_yearly')])\n",
    "sns.scatterplot(x='release_year', y='Worldwide', data=concatenated, hue='Source', style='dataset')\n",
    "plt.show()"
   ]
  },
  {
   "cell_type": "code",
   "execution_count": 65,
   "id": "19179198",
   "metadata": {},
   "outputs": [
    {
     "name": "stdout",
     "output_type": "stream",
     "text": [
      "Based on Fiction Book/Short Story      49\n",
      "Original Screenplay                    25\n",
      "Based on Real Life Events               8\n",
      "Based on Comic/Graphic Novel            6\n",
      "Based on Folk Tale/Legend/Fairytale     3\n",
      "Based on TV                             3\n",
      "Spin-Off                                2\n",
      "Based on Play                           2\n",
      "Based on Game                           2\n",
      "Name: Source, dtype: int64\n",
      "Based on Comic/Graphic Novel           31\n",
      "Original Screenplay                    30\n",
      "Based on Fiction Book/Short Story      22\n",
      "Remake                                  4\n",
      "Spin-Off                                3\n",
      "Based on TV                             3\n",
      "Based on Theme Park Ride                3\n",
      "Based on Folk Tale/Legend/Fairytale     2\n",
      "Based on Factual Book/Article           1\n",
      "Based on Religious Text                 1\n",
      "Name: Source, dtype: int64\n"
     ]
    }
   ],
   "source": [
    "print(gross_uk['Source'].value_counts())\n",
    "print(gross_us['Source'].value_counts())"
   ]
  },
  {
   "cell_type": "code",
   "execution_count": 67,
   "id": "d081f130",
   "metadata": {},
   "outputs": [],
   "source": [
    "# Convert genre variable to dummy variables \n",
    "uk_source_dummies = pd.get_dummies(data = gross_uk['Source'])\n",
    "us_source_dummies = pd.get_dummies(data = gross_us['Source'])"
   ]
  },
  {
   "cell_type": "code",
   "execution_count": 68,
   "id": "edce69c2",
   "metadata": {},
   "outputs": [
    {
     "name": "stdout",
     "output_type": "stream",
     "text": [
      "(261073069.9199358, 28855884.246730935)\n"
     ]
    }
   ],
   "source": [
    "# Import LinearRegression\n",
    "from sklearn.linear_model import LinearRegression\n",
    "\n",
    "# Build a linear regression model\n",
    "regr_uk = LinearRegression()\n",
    "\n",
    "# Fit regr to the dataset\n",
    "regr_uk.fit(uk_source_dummies, gross_uk['Worldwide'])\n",
    "\n",
    "# Get estimated intercept and coefficient values \n",
    "Fiction_Book_uk =  regr_uk.intercept_\n",
    "Screenplay_uk = regr_uk.coef_[[0]][0]\n",
    "\n",
    "# Inspect the estimated intercept and coefficient values \n",
    "print((Fiction_Book_uk, Screenplay_uk))"
   ]
  },
  {
   "cell_type": "code",
   "execution_count": 69,
   "id": "e73e23e0",
   "metadata": {},
   "outputs": [
    {
     "name": "stdout",
     "output_type": "stream",
     "text": [
      "(967307985.5155492, 226724442.56778416)\n"
     ]
    }
   ],
   "source": [
    "# Build a linear regression model\n",
    "regr_us = LinearRegression()\n",
    "\n",
    "# Fit regr to the dataset\n",
    "regr_us.fit(us_genre_dummies, gross_us['Worldwide'])\n",
    "\n",
    "# Get estimated intercept and coefficient values \n",
    "Comic_us =  regr.intercept_\n",
    "Screenplay_us = regr.coef_[[0]][0]\n",
    "\n",
    "# Inspect the estimated intercept and coefficient values \n",
    "print((Comic_us, Screenplay_us))"
   ]
  },
  {
   "cell_type": "code",
   "execution_count": 70,
   "id": "b33ab560",
   "metadata": {},
   "outputs": [],
   "source": [
    "# Create an array of indices to sample from \n",
    "inds = np.arange(len(gross_uk['Source']))\n",
    "\n",
    "# Initialize 500 replicate arrays\n",
    "size = 500\n",
    "bs_fiction_reps_uk =  np.empty(size)\n",
    "bs_screenplay_reps_uk =  np.empty(size)\n",
    "\n",
    "# Create an array of indices to sample from \n",
    "inds = np.arange(len(gross_us['Source']))\n",
    "\n",
    "bs_comic_reps_us =  np.empty(size)\n",
    "bs_screenplay_reps_us =  np.empty(size)\n"
   ]
  },
  {
   "cell_type": "code",
   "execution_count": 72,
   "id": "4f5ce4d4",
   "metadata": {},
   "outputs": [],
   "source": [
    "for i in range(size):\n",
    "    \n",
    "    # Resample the indices \n",
    "    bs_inds = np.random.choice(inds,size=len(inds))\n",
    "    \n",
    "    # Get the sampled genre and sampled adjusted gross\n",
    "    bs_source_uk = gross_uk['Source'][bs_inds] \n",
    "    bs_gross_uk = gross_uk['Worldwide'][bs_inds]\n",
    "    \n",
    "    # Convert sampled genre to dummy variables\n",
    "    bs_dummies_uk = pd.get_dummies(bs_genre_uk, drop_first = True)\n",
    "   \n",
    "    # Build and fit a regression model \n",
    "    regr_uk = LinearRegression().fit(bs_dummies_uk, bs_gross_uk)\n",
    "    \n",
    "    # Compute replicates of estimated intercept and coefficient\n",
    "    bs_fiction_reps_uk[i] = regr_uk.intercept_\n",
    "    bs_screenplay_reps_uk[i] = regr_uk.coef_[[0]][0]"
   ]
  },
  {
   "cell_type": "code",
   "execution_count": 79,
   "id": "c9a99253",
   "metadata": {},
   "outputs": [
    {
     "name": "stdout",
     "output_type": "stream",
     "text": [
      "[2.36773870e+08 4.15751461e+08]\n",
      "[-1.38273960e+08  1.47941643e+08]\n"
     ]
    }
   ],
   "source": [
    "# Compute 95% confidence intervals for intercept and coefficient values\n",
    "confidence_interval_fiction_uk = np.percentile(bs_fiction_reps_uk, [2.5, 97.5])\n",
    "confidence_interval_screenplay_uk = np.percentile(bs_screenplay_reps_uk, [2.5, 97.5])\n",
    "\n",
    "# Inspect the confidence intervals\n",
    "print(confidence_interval_fiction_uk)\n",
    "print(confidence_interval_screenplay_uk)"
   ]
  },
  {
   "cell_type": "code",
   "execution_count": 80,
   "id": "56741244",
   "metadata": {},
   "outputs": [
    {
     "data": {
      "text/plain": [
       "<matplotlib.collections.PolyCollection at 0x7fe6f7dc6b80>"
      ]
     },
     "execution_count": 80,
     "metadata": {},
     "output_type": "execute_result"
    },
    {
     "data": {
      "image/png": "[encoded data removed]",
      "text/plain": [
       "<Figure size 432x288 with 1 Axes>"
      ]
     },
     "metadata": {
      "needs_background": "light"
     },
     "output_type": "display_data"
    }
   ],
   "source": [
    "x = bs_fiction_reps_uk\n",
    "y = size * x\n",
    "#some confidence interval\n",
    "ci = 1.96 * np.std(y)/np.sqrt(len(x))\n",
    "\n",
    "fig, ax = plt.subplots()\n",
    "ax.plot(x,y)\n",
    "ax.fill_between(x, (y-ci), (y+ci), color='b', alpha=.1)"
   ]
  },
  {
   "cell_type": "code",
   "execution_count": 81,
   "id": "f0af27f8",
   "metadata": {},
   "outputs": [
    {
     "data": {
      "text/plain": [
       "<matplotlib.collections.PolyCollection at 0x7fe6f7e21cd0>"
      ]
     },
     "execution_count": 81,
     "metadata": {},
     "output_type": "execute_result"
    },
    {
     "data": {
      "image/png": "[encoded data removed]",
      "text/plain": [
       "<Figure size 432x288 with 1 Axes>"
      ]
     },
     "metadata": {
      "needs_background": "light"
     },
     "output_type": "display_data"
    }
   ],
   "source": [
    "x = bs_screenplay_reps_uk\n",
    "y = size * x\n",
    "#some confidence interval\n",
    "ci = 1.96 * np.std(y)/np.sqrt(len(x))\n",
    "\n",
    "fig, ax = plt.subplots()\n",
    "ax.plot(x,y)\n",
    "ax.fill_between(x, (y-ci), (y+ci), color='b', alpha=.1)"
   ]
  },
  {
   "cell_type": "code",
   "execution_count": 84,
   "id": "5cfcb5e7",
   "metadata": {},
   "outputs": [],
   "source": [
    "for i in range(size):\n",
    "    \n",
    "    # Resample the indices \n",
    "    bs_inds = np.random.choice(inds,size=len(inds))\n",
    "    \n",
    "    # Get the sampled genre and sampled adjusted gross\n",
    "    bs_source_us = gross_us['Source'][bs_inds] \n",
    "    bs_gross_us = gross_us['Worldwide'][bs_inds]\n",
    "    \n",
    "    # Convert sampled genre to dummy variables\n",
    "    bs_dummies_us = pd.get_dummies(bs_source_us, drop_first = True)\n",
    "   \n",
    "    # Build and fit a regression model \n",
    "    regr_us = LinearRegression().fit(bs_dummies_us, bs_gross_us)\n",
    "    \n",
    "    # Compute replicates of estimated intercept and coefficient\n",
    "    bs_comic_reps_us[i] = regr_us.intercept_\n",
    "    bs_screenplay_reps_us[i] = regr_us.coef_[[0]][0]"
   ]
  },
  {
   "cell_type": "code",
   "execution_count": 85,
   "id": "12b2c077",
   "metadata": {},
   "outputs": [
    {
     "name": "stdout",
     "output_type": "stream",
     "text": [
      "[9.41478021e+08 1.26578158e+09]\n",
      "[-6.87149543e+08  2.44730258e+07]\n"
     ]
    }
   ],
   "source": [
    "# Compute 95% confidence intervals for intercept and coefficient values\n",
    "confidence_interval_comic_us = np.percentile(bs_comic_reps_us, [2.5, 97.5])\n",
    "confidence_interval_screenplay_us = np.percentile(bs_screenplay_reps_us, [2.5, 97.5])\n",
    "\n",
    "# Inspect the confidence intervals\n",
    "print(confidence_interval_comic_us)\n",
    "print(confidence_interval_screenplay_us)"
   ]
  },
  {
   "cell_type": "code",
   "execution_count": 88,
   "id": "435935e6",
   "metadata": {},
   "outputs": [
    {
     "data": {
      "text/plain": [
       "<matplotlib.collections.PolyCollection at 0x7fe6f8282be0>"
      ]
     },
     "execution_count": 88,
     "metadata": {},
     "output_type": "execute_result"
    },
    {
     "data": {
      "image/png": "[encoded data removed]",
      "text/plain": [
       "<Figure size 432x288 with 1 Axes>"
      ]
     },
     "metadata": {
      "needs_background": "light"
     },
     "output_type": "display_data"
    }
   ],
   "source": [
    "x = bs_comic_reps_us\n",
    "y = size * x\n",
    "#some confidence interval\n",
    "ci = 1.96 * np.std(y)/np.sqrt(len(x))\n",
    "\n",
    "fig, ax = plt.subplots()\n",
    "ax.plot(x,y)\n",
    "ax.fill_between(x, (y-ci), (y+ci), color='b', alpha=.1)"
   ]
  },
  {
   "cell_type": "code",
   "execution_count": 90,
   "id": "9a32a777",
   "metadata": {},
   "outputs": [
    {
     "data": {
      "text/plain": [
       "<matplotlib.collections.PolyCollection at 0x7fe6f86fff70>"
      ]
     },
     "execution_count": 90,
     "metadata": {},
     "output_type": "execute_result"
    },
    {
     "data": {
      "image/png": "[encoded data removed]",
      "text/plain": [
       "<Figure size 432x288 with 1 Axes>"
      ]
     },
     "metadata": {
      "needs_background": "light"
     },
     "output_type": "display_data"
    }
   ],
   "source": [
    "x = bs_screenplay_reps_us\n",
    "y = size * x\n",
    "#some confidence interval\n",
    "ci = 1.96 * np.std(y)/np.sqrt(len(x))\n",
    "\n",
    "fig, ax = plt.subplots()\n",
    "ax.plot(x,y)\n",
    "ax.fill_between(x, (y-ci), (y+ci), color='b', alpha=.1)"
   ]
  },
  {
   "cell_type": "code",
   "execution_count": null,
   "id": "84408bf7",
   "metadata": {},
   "outputs": [],
   "source": []
  }
 ],
 "metadata": {
  "kernelspec": {
   "display_name": "Python 3",
   "language": "python",
   "name": "python3"
  },
  "language_info": {
   "codemirror_mode": {
    "name": "ipython",
    "version": 3
   },
   "file_extension": ".py",
   "mimetype": "text/x-python",
   "name": "python",
   "nbconvert_exporter": "python",
   "pygments_lexer": "ipython3",
   "version": "3.8.8"
  }
 },
 "nbformat": 4,
 "nbformat_minor": 5
}
