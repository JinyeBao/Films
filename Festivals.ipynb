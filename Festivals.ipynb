{
 "cells": [
  {
   "cell_type": "code",
   "execution_count": 9,
   "id": "93595d14",
   "metadata": {},
   "outputs": [],
   "source": [
    "# Import pandas library\n",
    "import pandas as pd\n",
    "\n",
    "# Read the file into gross\n",
    "gross_C = pd.read_csv('./dataset/Chrismas.csv',parse_dates=['Released'])\n",
    "gross_T = pd.read_csv('./dataset/Thanksgiving.csv',parse_dates=['Released'])\n",
    "gross_H = pd.read_csv('./dataset/Halloween.csv',parse_dates=['Released'])\n"
   ]
  },
  {
   "cell_type": "code",
   "execution_count": 10,
   "id": "7dd66549",
   "metadata": {},
   "outputs": [
    {
     "data": {
      "text/html": [
       "<div>\n",
       "<style scoped>\n",
       "    .dataframe tbody tr th:only-of-type {\n",
       "        vertical-align: middle;\n",
       "    }\n",
       "\n",
       "    .dataframe tbody tr th {\n",
       "        vertical-align: top;\n",
       "    }\n",
       "\n",
       "    .dataframe thead th {\n",
       "        text-align: right;\n",
       "    }\n",
       "</style>\n",
       "<table border=\"1\" class=\"dataframe\">\n",
       "  <thead>\n",
       "    <tr style=\"text-align: right;\">\n",
       "      <th></th>\n",
       "      <th>Released</th>\n",
       "      <th>Title</th>\n",
       "      <th>Production Budget</th>\n",
       "      <th>Worldwide Box Office</th>\n",
       "    </tr>\n",
       "  </thead>\n",
       "  <tbody>\n",
       "    <tr>\n",
       "      <th>0</th>\n",
       "      <td>1990-01-01</td>\n",
       "      <td>Home Alone</td>\n",
       "      <td>15000000.0</td>\n",
       "      <td>476683393.0</td>\n",
       "    </tr>\n",
       "    <tr>\n",
       "      <th>1</th>\n",
       "      <td>2018-01-01</td>\n",
       "      <td>Dr. Seuss’ The Grinch</td>\n",
       "      <td>75000000.0</td>\n",
       "      <td>513791557.0</td>\n",
       "    </tr>\n",
       "    <tr>\n",
       "      <th>2</th>\n",
       "      <td>2000-01-01</td>\n",
       "      <td>How the Grinch Stole Christmas</td>\n",
       "      <td>123000000.0</td>\n",
       "      <td>345445403.0</td>\n",
       "    </tr>\n",
       "    <tr>\n",
       "      <th>3</th>\n",
       "      <td>2004-01-01</td>\n",
       "      <td>The Polar Express</td>\n",
       "      <td>170000000.0</td>\n",
       "      <td>312719437.0</td>\n",
       "    </tr>\n",
       "    <tr>\n",
       "      <th>4</th>\n",
       "      <td>2003-01-01</td>\n",
       "      <td>Elf</td>\n",
       "      <td>32000000.0</td>\n",
       "      <td>222344688.0</td>\n",
       "    </tr>\n",
       "  </tbody>\n",
       "</table>\n",
       "</div>"
      ],
      "text/plain": [
       "    Released                           Title  Production Budget  \\\n",
       "0 1990-01-01                      Home Alone         15000000.0   \n",
       "1 2018-01-01           Dr. Seuss’ The Grinch         75000000.0   \n",
       "2 2000-01-01  How the Grinch Stole Christmas        123000000.0   \n",
       "3 2004-01-01               The Polar Express        170000000.0   \n",
       "4 2003-01-01                             Elf         32000000.0   \n",
       "\n",
       "   Worldwide Box Office  \n",
       "0           476683393.0  \n",
       "1           513791557.0  \n",
       "2           345445403.0  \n",
       "3           312719437.0  \n",
       "4           222344688.0  "
      ]
     },
     "execution_count": 10,
     "metadata": {},
     "output_type": "execute_result"
    }
   ],
   "source": [
    "gross_C.head()"
   ]
  },
  {
   "cell_type": "code",
   "execution_count": 7,
   "id": "41046a00",
   "metadata": {},
   "outputs": [
    {
     "data": {
      "text/html": [
       "<div>\n",
       "<style scoped>\n",
       "    .dataframe tbody tr th:only-of-type {\n",
       "        vertical-align: middle;\n",
       "    }\n",
       "\n",
       "    .dataframe tbody tr th {\n",
       "        vertical-align: top;\n",
       "    }\n",
       "\n",
       "    .dataframe thead th {\n",
       "        text-align: right;\n",
       "    }\n",
       "</style>\n",
       "<table border=\"1\" class=\"dataframe\">\n",
       "  <thead>\n",
       "    <tr style=\"text-align: right;\">\n",
       "      <th></th>\n",
       "      <th>Released</th>\n",
       "      <th>Title</th>\n",
       "      <th>Production Budget</th>\n",
       "      <th>Worldwide Box Office</th>\n",
       "    </tr>\n",
       "  </thead>\n",
       "  <tbody>\n",
       "    <tr>\n",
       "      <th>0</th>\n",
       "      <td>2011-01-01</td>\n",
       "      <td>Tower Heist</td>\n",
       "      <td>85000000.0</td>\n",
       "      <td>150422946.0</td>\n",
       "    </tr>\n",
       "    <tr>\n",
       "      <th>1</th>\n",
       "      <td>2011-01-01</td>\n",
       "      <td>Jack and Jill</td>\n",
       "      <td>79000000.0</td>\n",
       "      <td>150519217.0</td>\n",
       "    </tr>\n",
       "    <tr>\n",
       "      <th>2</th>\n",
       "      <td>1993-01-01</td>\n",
       "      <td>Grumpy Old Men</td>\n",
       "      <td>0.0</td>\n",
       "      <td>70172621.0</td>\n",
       "    </tr>\n",
       "    <tr>\n",
       "      <th>3</th>\n",
       "      <td>2013-01-01</td>\n",
       "      <td>Free Birds</td>\n",
       "      <td>55000000.0</td>\n",
       "      <td>110387072.0</td>\n",
       "    </tr>\n",
       "    <tr>\n",
       "      <th>4</th>\n",
       "      <td>1987-01-01</td>\n",
       "      <td>Planes, Trains &amp; Automobiles</td>\n",
       "      <td>0.0</td>\n",
       "      <td>49752241.0</td>\n",
       "    </tr>\n",
       "  </tbody>\n",
       "</table>\n",
       "</div>"
      ],
      "text/plain": [
       "    Released                         Title  Production Budget  \\\n",
       "0 2011-01-01                   Tower Heist         85000000.0   \n",
       "1 2011-01-01                 Jack and Jill         79000000.0   \n",
       "2 1993-01-01                Grumpy Old Men                0.0   \n",
       "3 2013-01-01                    Free Birds         55000000.0   \n",
       "4 1987-01-01  Planes, Trains & Automobiles                0.0   \n",
       "\n",
       "   Worldwide Box Office  \n",
       "0           150422946.0  \n",
       "1           150519217.0  \n",
       "2            70172621.0  \n",
       "3           110387072.0  \n",
       "4            49752241.0  "
      ]
     },
     "execution_count": 7,
     "metadata": {},
     "output_type": "execute_result"
    }
   ],
   "source": [
    "gross_T.head()"
   ]
  },
  {
   "cell_type": "code",
   "execution_count": 8,
   "id": "a3a08855",
   "metadata": {},
   "outputs": [
    {
     "data": {
      "text/html": [
       "<div>\n",
       "<style scoped>\n",
       "    .dataframe tbody tr th:only-of-type {\n",
       "        vertical-align: middle;\n",
       "    }\n",
       "\n",
       "    .dataframe tbody tr th {\n",
       "        vertical-align: top;\n",
       "    }\n",
       "\n",
       "    .dataframe thead th {\n",
       "        text-align: right;\n",
       "    }\n",
       "</style>\n",
       "<table border=\"1\" class=\"dataframe\">\n",
       "  <thead>\n",
       "    <tr style=\"text-align: right;\">\n",
       "      <th></th>\n",
       "      <th>Released</th>\n",
       "      <th>Title</th>\n",
       "      <th>Production Budget</th>\n",
       "      <th>Worldwide Box Office</th>\n",
       "    </tr>\n",
       "  </thead>\n",
       "  <tbody>\n",
       "    <tr>\n",
       "      <th>0</th>\n",
       "      <td>1993-01-01</td>\n",
       "      <td>The Nightmare Before Christmas</td>\n",
       "      <td>0.0</td>\n",
       "      <td>77744972.0</td>\n",
       "    </tr>\n",
       "    <tr>\n",
       "      <th>1</th>\n",
       "      <td>2016-01-01</td>\n",
       "      <td>Tyler Perry’s Boo! A Madea Halloween</td>\n",
       "      <td>20000000.0</td>\n",
       "      <td>73206343.0</td>\n",
       "    </tr>\n",
       "    <tr>\n",
       "      <th>2</th>\n",
       "      <td>2019-01-01</td>\n",
       "      <td>Scary Stories to Tell in the Dark</td>\n",
       "      <td>28000000.0</td>\n",
       "      <td>95592669.0</td>\n",
       "    </tr>\n",
       "    <tr>\n",
       "      <th>3</th>\n",
       "      <td>2022-01-01</td>\n",
       "      <td>Halloween Ends</td>\n",
       "      <td>20000000.0</td>\n",
       "      <td>103413446.0</td>\n",
       "    </tr>\n",
       "    <tr>\n",
       "      <th>4</th>\n",
       "      <td>2018-01-01</td>\n",
       "      <td>The Predator</td>\n",
       "      <td>88000000.0</td>\n",
       "      <td>159487563.0</td>\n",
       "    </tr>\n",
       "  </tbody>\n",
       "</table>\n",
       "</div>"
      ],
      "text/plain": [
       "    Released                                 Title  Production Budget  \\\n",
       "0 1993-01-01        The Nightmare Before Christmas                0.0   \n",
       "1 2016-01-01  Tyler Perry’s Boo! A Madea Halloween         20000000.0   \n",
       "2 2019-01-01     Scary Stories to Tell in the Dark         28000000.0   \n",
       "3 2022-01-01                        Halloween Ends         20000000.0   \n",
       "4 2018-01-01                          The Predator         88000000.0   \n",
       "\n",
       "   Worldwide Box Office  \n",
       "0            77744972.0  \n",
       "1            73206343.0  \n",
       "2            95592669.0  \n",
       "3           103413446.0  \n",
       "4           159487563.0  "
      ]
     },
     "execution_count": 8,
     "metadata": {},
     "output_type": "execute_result"
    }
   ],
   "source": [
    "gross_H.head()"
   ]
  },
  {
   "cell_type": "code",
   "execution_count": 16,
   "id": "bafdbbc9",
   "metadata": {},
   "outputs": [
    {
     "data": {
      "image/png": "[encoded data removed]",
      "text/plain": [
       "<Figure size 432x288 with 1 Axes>"
      ]
     },
     "metadata": {
      "needs_background": "light"
     },
     "output_type": "display_data"
    }
   ],
   "source": [
    "# Import seaborn library\n",
    "import seaborn as sns\n",
    "import matplotlib.pyplot as plt\n",
    "concatenated = pd.concat([gross_C.assign(dataset='gross_C'), gross_T.assign(dataset='gross_T'), gross_H.assign(dataset='gross_H')])\n",
    "sns.lineplot(x='Released', y='Worldwide Box Office', data=concatenated, style='dataset')\n",
    "plt.show()"
   ]
  },
  {
   "cell_type": "code",
   "execution_count": null,
   "id": "e530bed2",
   "metadata": {},
   "outputs": [],
   "source": []
  },
  {
   "cell_type": "code",
   "execution_count": null,
   "id": "58459cab",
   "metadata": {},
   "outputs": [],
   "source": []
  }
 ],
 "metadata": {
  "kernelspec": {
   "display_name": "Python 3",
   "language": "python",
   "name": "python3"
  },
  "language_info": {
   "codemirror_mode": {
    "name": "ipython",
    "version": 3
   },
   "file_extension": ".py",
   "mimetype": "text/x-python",
   "name": "python",
   "nbconvert_exporter": "python",
   "pygments_lexer": "ipython3",
   "version": "3.8.8"
  }
 },
 "nbformat": 4,
 "nbformat_minor": 5
}
